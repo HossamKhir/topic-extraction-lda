{
 "cells": [
  {
   "cell_type": "code",
   "execution_count": null,
   "metadata": {},
   "outputs": [],
   "source": [
    "# !python3 -m pip install langdetect\n"
   ]
  },
  {
   "cell_type": "markdown",
   "metadata": {},
   "source": [
    "# Feature Engineering of corpus\n",
    "\n",
    "The following resources were found helpful devising a strategy for feature engineering:\n",
    "\n",
    "- [Text Analysis & Feature Engineering with NLP](https://towardsdatascience.com/text-analysis-feature-engineering-with-nlp-502d6ea9225d)\n",
    "- [Topic Modelling and Latent Dirichlet Allocation \\(LDA\\) in Python](https://towardsdatascience.com/topic-modeling-and-latent-dirichlet-allocation-in-python-9bf156893c24)\n",
    "\n",
    "## Importing modules &amp; defining globals\n"
   ]
  },
  {
   "cell_type": "code",
   "execution_count": 2,
   "metadata": {},
   "outputs": [],
   "source": [
    "import os\n",
    "import numpy as np\n",
    "import pandas as pd\n",
    "\n",
    "from gensim.parsing.preprocessing import STOPWORDS\n",
    "from nltk.corpus import stopwords\n",
    "\n",
    "cwd = os.getcwd()\n",
    "os.chdir(\"../\")\n",
    "from lda_utils import preprocess\n",
    "\n",
    "os.chdir(cwd)\n",
    "# from gensim.utils import simple_preprocess\n",
    "# from nltk.stem import WordNetLemmatizer\n",
    "\n",
    "# from typing import Union\n",
    "\n",
    "np.random.seed(42)\n",
    "\n",
    "DATA_PATH = \"../data/raw\"\n",
    "STOPWORDS = STOPWORDS | frozenset(stopwords.words(\"english\"))\n"
   ]
  },
  {
   "cell_type": "markdown",
   "metadata": {},
   "source": [
    "## Loading dataset\n"
   ]
  },
  {
   "cell_type": "code",
   "execution_count": 2,
   "metadata": {},
   "outputs": [
    {
     "data": {
      "text/html": [
       "<div>\n",
       "<style scoped>\n",
       "    .dataframe tbody tr th:only-of-type {\n",
       "        vertical-align: middle;\n",
       "    }\n",
       "\n",
       "    .dataframe tbody tr th {\n",
       "        vertical-align: top;\n",
       "    }\n",
       "\n",
       "    .dataframe thead th {\n",
       "        text-align: right;\n",
       "    }\n",
       "</style>\n",
       "<table border=\"1\" class=\"dataframe\">\n",
       "  <thead>\n",
       "    <tr style=\"text-align: right;\">\n",
       "      <th></th>\n",
       "      <th>Title</th>\n",
       "      <th>Abstract</th>\n",
       "    </tr>\n",
       "    <tr>\n",
       "      <th>ArticleID</th>\n",
       "      <th></th>\n",
       "      <th></th>\n",
       "    </tr>\n",
       "  </thead>\n",
       "  <tbody>\n",
       "    <tr>\n",
       "      <th>34153941</th>\n",
       "      <td>Stable Coordination Variability in Overground ...</td>\n",
       "      <td>Coordination variability (CV) is commonly anal...</td>\n",
       "    </tr>\n",
       "    <tr>\n",
       "      <th>34153942</th>\n",
       "      <td>Weak Hip Strength Increases Dynamic Knee Valgu...</td>\n",
       "      <td>Clinical Scenario: Dynamic knee valgus (DKV) i...</td>\n",
       "    </tr>\n",
       "    <tr>\n",
       "      <th>34153964</th>\n",
       "      <td>Current and Future Projections of Amyotrophic ...</td>\n",
       "      <td>Various methodologies have been reported to as...</td>\n",
       "    </tr>\n",
       "    <tr>\n",
       "      <th>34153968</th>\n",
       "      <td>Disparities between Asian and Non-Asian Thromb...</td>\n",
       "      <td>As outcomes for acute ischemic stroke (AIS) va...</td>\n",
       "    </tr>\n",
       "    <tr>\n",
       "      <th>34153978</th>\n",
       "      <td>Maternal Factors Predicting Loss to Follow-Up ...</td>\n",
       "      <td>Because hearing loss in children can result in...</td>\n",
       "    </tr>\n",
       "  </tbody>\n",
       "</table>\n",
       "</div>"
      ],
      "text/plain": [
       "                                                       Title  \\\n",
       "ArticleID                                                      \n",
       "34153941   Stable Coordination Variability in Overground ...   \n",
       "34153942   Weak Hip Strength Increases Dynamic Knee Valgu...   \n",
       "34153964   Current and Future Projections of Amyotrophic ...   \n",
       "34153968   Disparities between Asian and Non-Asian Thromb...   \n",
       "34153978   Maternal Factors Predicting Loss to Follow-Up ...   \n",
       "\n",
       "                                                    Abstract  \n",
       "ArticleID                                                     \n",
       "34153941   Coordination variability (CV) is commonly anal...  \n",
       "34153942   Clinical Scenario: Dynamic knee valgus (DKV) i...  \n",
       "34153964   Various methodologies have been reported to as...  \n",
       "34153968   As outcomes for acute ischemic stroke (AIS) va...  \n",
       "34153978   Because hearing loss in children can result in...  "
      ]
     },
     "execution_count": 2,
     "metadata": {},
     "output_type": "execute_result"
    }
   ],
   "source": [
    "io = \"Pubmed5k.xlsx\"\n",
    "sheet_name = \"random 5k\"\n",
    "df = pd.read_excel(os.path.join(DATA_PATH, io), sheet_name=sheet_name, index_col=[0])\n",
    "df.head()\n"
   ]
  },
  {
   "cell_type": "markdown",
   "metadata": {},
   "source": [
    "## Exploring dataset\n"
   ]
  },
  {
   "cell_type": "code",
   "execution_count": 41,
   "metadata": {},
   "outputs": [],
   "source": [
    "df_lower = df[\"Abstract\"].str.lower()\n",
    "\n",
    "# some records have no clear abstract\n",
    "idx_no_abs = df_lower.str.find(\"no abstract\") != -1\n",
    "\n",
    "df_processed = df[~idx_no_abs]\n",
    "# df_no_abs = df[idx_no_abs]\n",
    "# df_no_abs.loc[:, \"Abstract\"] = \"\"\n",
    "# df_processed.loc[idx_no_abs, \"Abstract\"] = \"\"\n",
    "\n",
    "# df_no_abstract = df[idx_no_abs]\n",
    "# df_corpus = df[~idx_no_abs]\n"
   ]
  },
  {
   "cell_type": "code",
   "execution_count": 42,
   "metadata": {},
   "outputs": [
    {
     "data": {
      "text/html": [
       "<div>\n",
       "<style scoped>\n",
       "    .dataframe tbody tr th:only-of-type {\n",
       "        vertical-align: middle;\n",
       "    }\n",
       "\n",
       "    .dataframe tbody tr th {\n",
       "        vertical-align: top;\n",
       "    }\n",
       "\n",
       "    .dataframe thead th {\n",
       "        text-align: right;\n",
       "    }\n",
       "</style>\n",
       "<table border=\"1\" class=\"dataframe\">\n",
       "  <thead>\n",
       "    <tr style=\"text-align: right;\">\n",
       "      <th></th>\n",
       "      <th>Title</th>\n",
       "      <th>Abstract</th>\n",
       "    </tr>\n",
       "  </thead>\n",
       "  <tbody>\n",
       "    <tr>\n",
       "      <th>count</th>\n",
       "      <td>4994.000000</td>\n",
       "      <td>4994.000000</td>\n",
       "    </tr>\n",
       "    <tr>\n",
       "      <th>mean</th>\n",
       "      <td>113.738486</td>\n",
       "      <td>1471.231077</td>\n",
       "    </tr>\n",
       "    <tr>\n",
       "      <th>std</th>\n",
       "      <td>36.705224</td>\n",
       "      <td>551.903126</td>\n",
       "    </tr>\n",
       "    <tr>\n",
       "      <th>min</th>\n",
       "      <td>13.000000</td>\n",
       "      <td>1.000000</td>\n",
       "    </tr>\n",
       "    <tr>\n",
       "      <th>25%</th>\n",
       "      <td>89.000000</td>\n",
       "      <td>1116.000000</td>\n",
       "    </tr>\n",
       "    <tr>\n",
       "      <th>50%</th>\n",
       "      <td>111.000000</td>\n",
       "      <td>1450.000000</td>\n",
       "    </tr>\n",
       "    <tr>\n",
       "      <th>75%</th>\n",
       "      <td>135.000000</td>\n",
       "      <td>1773.000000</td>\n",
       "    </tr>\n",
       "    <tr>\n",
       "      <th>max</th>\n",
       "      <td>274.000000</td>\n",
       "      <td>6635.000000</td>\n",
       "    </tr>\n",
       "  </tbody>\n",
       "</table>\n",
       "</div>"
      ],
      "text/plain": [
       "             Title     Abstract\n",
       "count  4994.000000  4994.000000\n",
       "mean    113.738486  1471.231077\n",
       "std      36.705224   551.903126\n",
       "min      13.000000     1.000000\n",
       "25%      89.000000  1116.000000\n",
       "50%     111.000000  1450.000000\n",
       "75%     135.000000  1773.000000\n",
       "max     274.000000  6635.000000"
      ]
     },
     "execution_count": 42,
     "metadata": {},
     "output_type": "execute_result"
    }
   ],
   "source": [
    "df_len = df_processed.apply({\"Title\": len, \"Abstract\": len})\n",
    "df_len.describe()\n"
   ]
  },
  {
   "cell_type": "markdown",
   "metadata": {},
   "source": [
    "some of the statistics for length of the documents are illogical.\n",
    "e.g: min(Abstract) = 1\n"
   ]
  },
  {
   "cell_type": "code",
   "execution_count": 43,
   "metadata": {},
   "outputs": [
    {
     "data": {
      "text/plain": [
       "1      1\n",
       "4      1\n",
       "16     1\n",
       "19     6\n",
       "43     1\n",
       "104    1\n",
       "112    1\n",
       "114    1\n",
       "125    1\n",
       "129    1\n",
       "Name: Abstract, dtype: int64"
      ]
     },
     "execution_count": 43,
     "metadata": {},
     "output_type": "execute_result"
    }
   ],
   "source": [
    "df_len[\"Abstract\"].value_counts().sort_index().head(10)\n"
   ]
  },
  {
   "cell_type": "code",
   "execution_count": 44,
   "metadata": {},
   "outputs": [
    {
     "data": {
      "text/plain": [
       "ArticleID\n",
       "34332620          ClinicalTrials.gov Identifier: NCT03910062.\n",
       "34506474                                                 N/A.\n",
       "34669439                                  [Figure: see text].\n",
       "34669440                                  [Figure: see text].\n",
       "34669441                                  [Figure: see text].\n",
       "34669442                                  [Figure: see text].\n",
       "34669443                                  [Figure: see text].\n",
       "34669444                                  [Figure: see text].\n",
       "34156932    At the height of laughter, the universe is flu...\n",
       "34328127                                     Reply to letter.\n",
       "34328134                                                    .\n",
       "Name: Abstract, dtype: object"
      ]
     },
     "execution_count": 44,
     "metadata": {},
     "output_type": "execute_result"
    }
   ],
   "source": [
    "df_processed[df_len[\"Abstract\"] <= 104][\"Abstract\"]\n"
   ]
  },
  {
   "cell_type": "code",
   "execution_count": 46,
   "metadata": {},
   "outputs": [
    {
     "data": {
      "text/plain": [
       "array(['Assessment of bedside lower limb angiography combined with continuous NIRS monitoring for the detection of lower limb complications of VA-ECMO: an observational monocentric study.'],\n",
       "      dtype=object)"
      ]
     },
     "execution_count": 46,
     "metadata": {},
     "output_type": "execute_result"
    }
   ],
   "source": [
    "df_processed[df_len[\"Abstract\"] == 43][\"Title\"].values\n"
   ]
  },
  {
   "cell_type": "code",
   "execution_count": 50,
   "metadata": {},
   "outputs": [
    {
     "data": {
      "text/plain": [
       "13    2\n",
       "22    1\n",
       "24    2\n",
       "25    1\n",
       "26    3\n",
       "27    1\n",
       "28    2\n",
       "29    2\n",
       "30    1\n",
       "31    3\n",
       "Name: Title, dtype: int64"
      ]
     },
     "execution_count": 50,
     "metadata": {},
     "output_type": "execute_result"
    }
   ],
   "source": [
    "df_len[\"Title\"].value_counts().sort_index().head(10)\n"
   ]
  },
  {
   "cell_type": "code",
   "execution_count": 51,
   "metadata": {},
   "outputs": [
    {
     "data": {
      "text/plain": [
       "ArticleID\n",
       "34223866           Mortality from COVID-19.\n",
       "34338452    Lyme disease in Poland in 2018.\n",
       "34477584           The Pain of Infertility.\n",
       "34477598       The Most Important Question.\n",
       "34614021         Dreaming of the sleep lab.\n",
       "34650095                      Wilms tumour.\n",
       "34728054          The future ocean we want.\n",
       "34156932    Innovation Is Tied to Optimism.\n",
       "34177893        Inflammasomes and Fibrosis.\n",
       "34207126      TMB in NSCLC: A Broken Dream?\n",
       "34207152      Viral Bad News Sent by EVAIL.\n",
       "34251623         Biological Network Mining.\n",
       "34258744     Peptide-Based Antiviral Drugs.\n",
       "34258745         Covalent Antiviral Agents.\n",
       "34282564    Neuroinflammation and Tinnitus.\n",
       "34334469                      Perseverance.\n",
       "34399409       Fluorescence Guided Surgery.\n",
       "34444466             Hypothermia in Trauma.\n",
       "Name: Title, dtype: object"
      ]
     },
     "execution_count": 51,
     "metadata": {},
     "output_type": "execute_result"
    }
   ],
   "source": [
    "df_processed[df_len[\"Title\"] <= 31][\"Title\"]\n"
   ]
  },
  {
   "cell_type": "code",
   "execution_count": 52,
   "metadata": {},
   "outputs": [
    {
     "data": {
      "text/plain": [
       "(15, 2)"
      ]
     },
     "execution_count": 52,
     "metadata": {},
     "output_type": "execute_result"
    }
   ],
   "source": [
    "df_altered = df[idx_no_abs]\n",
    "df_altered = pd.concat([df_altered, df_processed[df_len[\"Abstract\"] <= 43]])\n",
    "df_altered.loc[:, \"Abstract\"] = \"\"\n",
    "df_altered.shape\n"
   ]
  },
  {
   "cell_type": "code",
   "execution_count": 53,
   "metadata": {},
   "outputs": [
    {
     "data": {
      "text/html": [
       "<div>\n",
       "<style scoped>\n",
       "    .dataframe tbody tr th:only-of-type {\n",
       "        vertical-align: middle;\n",
       "    }\n",
       "\n",
       "    .dataframe tbody tr th {\n",
       "        vertical-align: top;\n",
       "    }\n",
       "\n",
       "    .dataframe thead th {\n",
       "        text-align: right;\n",
       "    }\n",
       "</style>\n",
       "<table border=\"1\" class=\"dataframe\">\n",
       "  <thead>\n",
       "    <tr style=\"text-align: right;\">\n",
       "      <th></th>\n",
       "      <th>Title</th>\n",
       "      <th>Abstract</th>\n",
       "    </tr>\n",
       "    <tr>\n",
       "      <th>ArticleID</th>\n",
       "      <th></th>\n",
       "      <th></th>\n",
       "    </tr>\n",
       "  </thead>\n",
       "  <tbody>\n",
       "    <tr>\n",
       "      <th>34258890</th>\n",
       "      <td>Closing gaps in the care of patients with hear...</td>\n",
       "      <td></td>\n",
       "    </tr>\n",
       "    <tr>\n",
       "      <th>34258891</th>\n",
       "      <td>Too much of a good thing in ischemic mitral: l...</td>\n",
       "      <td></td>\n",
       "    </tr>\n",
       "    <tr>\n",
       "      <th>34258892</th>\n",
       "      <td>COVID-19 infection and cardiometabolic complic...</td>\n",
       "      <td></td>\n",
       "    </tr>\n",
       "    <tr>\n",
       "      <th>34258893</th>\n",
       "      <td>Comments on Cardiovascular effects of waterpip...</td>\n",
       "      <td></td>\n",
       "    </tr>\n",
       "    <tr>\n",
       "      <th>34258894</th>\n",
       "      <td>A case of COVID-19 infection quickly relieved ...</td>\n",
       "      <td></td>\n",
       "    </tr>\n",
       "  </tbody>\n",
       "</table>\n",
       "</div>"
      ],
      "text/plain": [
       "                                                       Title Abstract\n",
       "ArticleID                                                            \n",
       "34258890   Closing gaps in the care of patients with hear...         \n",
       "34258891   Too much of a good thing in ischemic mitral: l...         \n",
       "34258892   COVID-19 infection and cardiometabolic complic...         \n",
       "34258893   Comments on Cardiovascular effects of waterpip...         \n",
       "34258894   A case of COVID-19 infection quickly relieved ...         "
      ]
     },
     "execution_count": 53,
     "metadata": {},
     "output_type": "execute_result"
    }
   ],
   "source": [
    "df_altered.head()\n"
   ]
  },
  {
   "cell_type": "code",
   "execution_count": 57,
   "metadata": {},
   "outputs": [
    {
     "data": {
      "text/plain": [
       "(4999, 2)"
      ]
     },
     "execution_count": 57,
     "metadata": {},
     "output_type": "execute_result"
    }
   ],
   "source": [
    "# df_processed.drop(index=df_altered.index)\n",
    "df_processed = df.drop(index=df_altered.index)\n",
    "df_processed = pd.concat([df_processed, df_altered])\n",
    "df_processed.shape\n"
   ]
  },
  {
   "cell_type": "markdown",
   "metadata": {},
   "source": [
    "## Preprocessing\n",
    "\n",
    "> Note: the approaches here are for a unigram model.\n",
    "\n",
    "after exploring the dataset, and slightly tweaking some features, the two columns of the set are joined to make a single feature (document per record) to be able to operate on the dataset\n"
   ]
  },
  {
   "cell_type": "code",
   "execution_count": 58,
   "metadata": {},
   "outputs": [
    {
     "data": {
      "text/plain": [
       "ArticleID\n",
       "34153941    Stable Coordination Variability in Overground ...\n",
       "34153942    Weak Hip Strength Increases Dynamic Knee Valgu...\n",
       "34153964    Current and Future Projections of Amyotrophic ...\n",
       "34153968    Disparities between Asian and Non-Asian Thromb...\n",
       "34153978    Maternal Factors Predicting Loss to Follow-Up ...\n",
       "Name: document, dtype: object"
      ]
     },
     "execution_count": 58,
     "metadata": {},
     "output_type": "execute_result"
    }
   ],
   "source": [
    "corpus = df_processed[\"Title\"] + r\" \" + df_processed[\"Abstract\"]\n",
    "corpus.name = \"document\"\n",
    "corpus.head()\n"
   ]
  },
  {
   "cell_type": "markdown",
   "metadata": {},
   "source": [
    "Defining helper function. Basically, bundling the preprocess subroutine into a function\n",
    "\n",
    "For each document:\n",
    "\n",
    "1. Tokenising the document.\n",
    "2. lowercasing the tokens.\n",
    "3. lemmatising the tokens.\n",
    "4. dropping stop words.\n"
   ]
  },
  {
   "cell_type": "markdown",
   "metadata": {},
   "source": [
    "- Calling the preprocessing subroutine on the dataset\n"
   ]
  },
  {
   "cell_type": "code",
   "execution_count": 63,
   "metadata": {},
   "outputs": [
    {
     "data": {
      "text/plain": [
       "ArticleID\n",
       "34153941    [stable, coordination, variability, overground...\n",
       "34153942    [weak, hip, strength, increase, dynamic, knee,...\n",
       "34153964    [current, future, projection, amyotrophic, lat...\n",
       "34153968    [disparity, asian, non, asian, thrombolyzed, a...\n",
       "34153978    [maternal, factor, predict, loss, follow, newb...\n",
       "Name: document, dtype: object"
      ]
     },
     "execution_count": 63,
     "metadata": {},
     "output_type": "execute_result"
    }
   ],
   "source": [
    "pos = [\"a\", \"n\", \"r\", \"s\", \"v\"]\n",
    "corpus_processed = corpus.apply(preprocess, stopwords=STOPWORDS, pos=pos)\n",
    "corpus_processed.head()\n"
   ]
  },
  {
   "cell_type": "markdown",
   "metadata": {},
   "source": [
    "## Saving the final feature engineered dataset\n"
   ]
  },
  {
   "cell_type": "code",
   "execution_count": 64,
   "metadata": {},
   "outputs": [],
   "source": [
    "corpus_processed.to_csv(os.path.join(DATA_PATH, \"corpus_clean.csv\"))\n"
   ]
  }
 ],
 "metadata": {
  "interpreter": {
   "hash": "53c3e8f2eb9682b6c71ce85616632b4da73b82d13cfbbe1554e54cc934f411d0"
  },
  "kernelspec": {
   "display_name": "Python 3.9.10 ('dsenv')",
   "language": "python",
   "name": "python3"
  },
  "language_info": {
   "codemirror_mode": {
    "name": "ipython",
    "version": 3
   },
   "file_extension": ".py",
   "mimetype": "text/x-python",
   "name": "python",
   "nbconvert_exporter": "python",
   "pygments_lexer": "ipython3",
   "version": "3.8.10"
  },
  "orig_nbformat": 4
 },
 "nbformat": 4,
 "nbformat_minor": 2
}
