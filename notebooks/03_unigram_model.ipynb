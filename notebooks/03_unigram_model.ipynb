{
 "cells": [
  {
   "cell_type": "markdown",
   "metadata": {},
   "source": [
    "# Training a Unigram `LdaMulticore` model\n",
    "\n",
    "## Importing modules &amp; defining globals\n"
   ]
  },
  {
   "cell_type": "code",
   "execution_count": 1,
   "metadata": {},
   "outputs": [],
   "source": [
    "import os\n",
    "import pickle\n",
    "import numpy as np\n",
    "import pandas as pd\n",
    "\n",
    "from ast import literal_eval\n",
    "from gensim.models import LdaMulticore, CoherenceModel\n",
    "\n",
    "cwd = os.getcwd()\n",
    "os.chdir(\"..\")\n",
    "from lda_utils import get_top_n_topics\n",
    "\n",
    "os.chdir(cwd)\n",
    "\n",
    "RAW_DATA_PATH = \"../data/raw\"\n",
    "PKL_DATA_PATH = \"../data/pickles\"\n"
   ]
  },
  {
   "cell_type": "markdown",
   "metadata": {},
   "source": [
    "## Loading preprocessed dataset\n"
   ]
  },
  {
   "cell_type": "code",
   "execution_count": 2,
   "metadata": {},
   "outputs": [
    {
     "data": {
      "text/plain": [
       "ArticleID\n",
       "34153941    [stable, coordination, variability, overground...\n",
       "34153942    [weak, hip, strength, increase, dynamic, knee,...\n",
       "34153964    [current, future, projection, amyotrophic, lat...\n",
       "34153968    [disparity, asian, non, asian, thrombolyzed, a...\n",
       "34153978    [maternal, factor, predict, loss, follow, newb...\n",
       "Name: document, dtype: object"
      ]
     },
     "execution_count": 2,
     "metadata": {},
     "output_type": "execute_result"
    }
   ],
   "source": [
    "corpus = pd.read_csv(\n",
    "    os.path.join(RAW_DATA_PATH, \"corpus_clean.csv\"), index_col=[\"ArticleID\"]\n",
    ")\n",
    "corpus = corpus[\"document\"].apply(literal_eval)\n",
    "corpus.head()\n"
   ]
  },
  {
   "cell_type": "markdown",
   "metadata": {},
   "source": [
    "## Loading hyperparameters\n"
   ]
  },
  {
   "cell_type": "code",
   "execution_count": 3,
   "metadata": {},
   "outputs": [
    {
     "data": {
      "text/plain": [
       "(7, 0.56)"
      ]
     },
     "execution_count": 3,
     "metadata": {},
     "output_type": "execute_result"
    }
   ],
   "source": [
    "h_params = np.load(os.path.join(RAW_DATA_PATH, \"hyperparameters.npy\"))\n",
    "k = int(h_params[0])\n",
    "a = h_params[1]\n",
    "k, a\n"
   ]
  },
  {
   "cell_type": "markdown",
   "metadata": {},
   "source": [
    "## Load arguments required by the model\n",
    "\n",
    "The arguments are dictionary of id/word, and the bow corpus\n"
   ]
  },
  {
   "cell_type": "code",
   "execution_count": 4,
   "metadata": {},
   "outputs": [],
   "source": [
    "params = {}\n",
    "for _, _, filenames in os.walk(PKL_DATA_PATH):\n",
    "    for fname in filenames:\n",
    "        if not fname.endswith(\".pkl\"):\n",
    "            continue\n",
    "        path = os.path.join(PKL_DATA_PATH, fname)\n",
    "        file_ref = open(path, \"rb\")\n",
    "        params[fname.replace(\".pkl\", \"\")] = pickle.load(file_ref)\n",
    "        file_ref.close()\n"
   ]
  },
  {
   "cell_type": "markdown",
   "metadata": {},
   "source": [
    "## Building a unigram model\n"
   ]
  },
  {
   "cell_type": "code",
   "execution_count": 5,
   "metadata": {},
   "outputs": [],
   "source": [
    "lda_model = LdaMulticore(\n",
    "    params[\"bow\"],\n",
    "    num_topics=k,\n",
    "    id2word=params[\"id2word\"],\n",
    "    eta=\"auto\",\n",
    "    alpha=a,\n",
    "    random_state=42,\n",
    ")\n"
   ]
  },
  {
   "cell_type": "markdown",
   "metadata": {},
   "source": [
    "## Assigning topics\n",
    "\n",
    "now we use the model to assign topics to records/docs/articles\n"
   ]
  },
  {
   "cell_type": "code",
   "execution_count": 6,
   "metadata": {},
   "outputs": [
    {
     "data": {
      "text/html": [
       "<div>\n",
       "<style scoped>\n",
       "    .dataframe tbody tr th:only-of-type {\n",
       "        vertical-align: middle;\n",
       "    }\n",
       "\n",
       "    .dataframe tbody tr th {\n",
       "        vertical-align: top;\n",
       "    }\n",
       "\n",
       "    .dataframe thead th {\n",
       "        text-align: right;\n",
       "    }\n",
       "</style>\n",
       "<table border=\"1\" class=\"dataframe\">\n",
       "  <thead>\n",
       "    <tr style=\"text-align: right;\">\n",
       "      <th></th>\n",
       "      <th>topic_1</th>\n",
       "      <th>topic_1_prop</th>\n",
       "      <th>topic_2</th>\n",
       "      <th>topic_2_prop</th>\n",
       "      <th>topic_3</th>\n",
       "      <th>topic_3_prop</th>\n",
       "    </tr>\n",
       "    <tr>\n",
       "      <th>ArticleID</th>\n",
       "      <th></th>\n",
       "      <th></th>\n",
       "      <th></th>\n",
       "      <th></th>\n",
       "      <th></th>\n",
       "      <th></th>\n",
       "    </tr>\n",
       "  </thead>\n",
       "  <tbody>\n",
       "    <tr>\n",
       "      <th>34153941</th>\n",
       "      <td>5</td>\n",
       "      <td>0.249494</td>\n",
       "      <td>1.0</td>\n",
       "      <td>0.210527</td>\n",
       "      <td>0.0</td>\n",
       "      <td>0.196882</td>\n",
       "    </tr>\n",
       "    <tr>\n",
       "      <th>34153942</th>\n",
       "      <td>5</td>\n",
       "      <td>0.459840</td>\n",
       "      <td>2.0</td>\n",
       "      <td>0.289519</td>\n",
       "      <td>4.0</td>\n",
       "      <td>0.101766</td>\n",
       "    </tr>\n",
       "    <tr>\n",
       "      <th>34153964</th>\n",
       "      <td>3</td>\n",
       "      <td>0.651110</td>\n",
       "      <td>0.0</td>\n",
       "      <td>0.111941</td>\n",
       "      <td>1.0</td>\n",
       "      <td>0.082597</td>\n",
       "    </tr>\n",
       "    <tr>\n",
       "      <th>34153968</th>\n",
       "      <td>0</td>\n",
       "      <td>0.909580</td>\n",
       "      <td>1.0</td>\n",
       "      <td>0.030253</td>\n",
       "      <td>5.0</td>\n",
       "      <td>0.024919</td>\n",
       "    </tr>\n",
       "    <tr>\n",
       "      <th>34153978</th>\n",
       "      <td>4</td>\n",
       "      <td>0.552593</td>\n",
       "      <td>0.0</td>\n",
       "      <td>0.296178</td>\n",
       "      <td>3.0</td>\n",
       "      <td>0.087066</td>\n",
       "    </tr>\n",
       "  </tbody>\n",
       "</table>\n",
       "</div>"
      ],
      "text/plain": [
       "           topic_1  topic_1_prop  topic_2  topic_2_prop  topic_3  topic_3_prop\n",
       "ArticleID                                                                     \n",
       "34153941         5      0.249494      1.0      0.210527      0.0      0.196882\n",
       "34153942         5      0.459840      2.0      0.289519      4.0      0.101766\n",
       "34153964         3      0.651110      0.0      0.111941      1.0      0.082597\n",
       "34153968         0      0.909580      1.0      0.030253      5.0      0.024919\n",
       "34153978         4      0.552593      0.0      0.296178      3.0      0.087066"
      ]
     },
     "execution_count": 6,
     "metadata": {},
     "output_type": "execute_result"
    }
   ],
   "source": [
    "n = 3\n",
    "\n",
    "df_topics = get_top_n_topics(params[\"bow\"], lda_model, n)\n",
    "df_topics.head()\n"
   ]
  },
  {
   "cell_type": "markdown",
   "metadata": {},
   "source": [
    "## Saving findings\n"
   ]
  },
  {
   "cell_type": "code",
   "execution_count": 7,
   "metadata": {},
   "outputs": [],
   "source": [
    "df_topics.to_csv(os.path.join(RAW_DATA_PATH, \"topics.csv\"))\n"
   ]
  },
  {
   "cell_type": "markdown",
   "metadata": {},
   "source": [
    "## Evaluating model\n"
   ]
  },
  {
   "cell_type": "code",
   "execution_count": 8,
   "metadata": {},
   "outputs": [
    {
     "data": {
      "text/plain": [
       "-1.5014013547438871"
      ]
     },
     "execution_count": 8,
     "metadata": {},
     "output_type": "execute_result"
    }
   ],
   "source": [
    "co_model = CoherenceModel(\n",
    "    lda_model, texts=corpus, dictionary=params[\"id2word\"], coherence=\"u_mass\"\n",
    ")\n",
    "co_model.get_coherence()\n"
   ]
  },
  {
   "cell_type": "markdown",
   "metadata": {},
   "source": [
    "## Saving the model\n"
   ]
  },
  {
   "cell_type": "code",
   "execution_count": 9,
   "metadata": {},
   "outputs": [],
   "source": [
    "path = os.path.join(PKL_DATA_PATH, \"lda_model.pkl\")\n",
    "lda_model.save(path)\n"
   ]
  }
 ],
 "metadata": {
  "interpreter": {
   "hash": "53c3e8f2eb9682b6c71ce85616632b4da73b82d13cfbbe1554e54cc934f411d0"
  },
  "kernelspec": {
   "display_name": "Python 3.9.10 ('dsenv')",
   "language": "python",
   "name": "python3"
  },
  "language_info": {
   "codemirror_mode": {
    "name": "ipython",
    "version": 3
   },
   "file_extension": ".py",
   "mimetype": "text/x-python",
   "name": "python",
   "nbconvert_exporter": "python",
   "pygments_lexer": "ipython3",
   "version": "3.8.10"
  },
  "orig_nbformat": 4
 },
 "nbformat": 4,
 "nbformat_minor": 2
}
