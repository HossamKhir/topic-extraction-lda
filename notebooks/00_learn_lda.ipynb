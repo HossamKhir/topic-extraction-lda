{
 "cells": [
  {
   "cell_type": "code",
   "execution_count": 1,
   "metadata": {},
   "outputs": [],
   "source": [
    "# !python3 -m pip install gensim nltk pandas\n",
    "# https://towardsdatascience.com/topic-modeling-with-latent-dirichlet-allocation-e7ff75290f8\n",
    "# https://towardsdatascience.com/gaussian-mixture-model-clusterization-how-to-select-the-number-of-components-clusters-553bef45f6e4\n"
   ]
  },
  {
   "cell_type": "markdown",
   "metadata": {},
   "source": [
    "# Topic extraction using LDA\n",
    "\n",
    "## Importing modules & defining globals\n"
   ]
  },
  {
   "cell_type": "code",
   "execution_count": 2,
   "metadata": {},
   "outputs": [],
   "source": [
    "import os\n",
    "import numpy as np\n",
    "import pandas as pd\n",
    "from typing import Union\n",
    "\n",
    "np.random.seed(42)\n",
    "\n",
    "DATA_PATH = \"../data/raw\"\n"
   ]
  },
  {
   "cell_type": "markdown",
   "metadata": {},
   "source": [
    "## Loading data\n"
   ]
  },
  {
   "cell_type": "code",
   "execution_count": 3,
   "metadata": {},
   "outputs": [],
   "source": [
    "io = os.path.join(DATA_PATH, \"Pubmed5k.xlsx\")\n",
    "sheet_name = \"random 5k\"\n",
    "df = pd.read_excel(io, sheet_name, index_col=[0])\n"
   ]
  },
  {
   "cell_type": "markdown",
   "metadata": {},
   "source": [
    "## Exploring the data\n"
   ]
  },
  {
   "cell_type": "code",
   "execution_count": 4,
   "metadata": {},
   "outputs": [
    {
     "data": {
      "text/html": [
       "<div>\n",
       "<style scoped>\n",
       "    .dataframe tbody tr th:only-of-type {\n",
       "        vertical-align: middle;\n",
       "    }\n",
       "\n",
       "    .dataframe tbody tr th {\n",
       "        vertical-align: top;\n",
       "    }\n",
       "\n",
       "    .dataframe thead th {\n",
       "        text-align: right;\n",
       "    }\n",
       "</style>\n",
       "<table border=\"1\" class=\"dataframe\">\n",
       "  <thead>\n",
       "    <tr style=\"text-align: right;\">\n",
       "      <th></th>\n",
       "      <th>Title</th>\n",
       "      <th>Abstract</th>\n",
       "    </tr>\n",
       "    <tr>\n",
       "      <th>ArticleID</th>\n",
       "      <th></th>\n",
       "      <th></th>\n",
       "    </tr>\n",
       "  </thead>\n",
       "  <tbody>\n",
       "    <tr>\n",
       "      <th>34153941</th>\n",
       "      <td>Stable Coordination Variability in Overground ...</td>\n",
       "      <td>Coordination variability (CV) is commonly anal...</td>\n",
       "    </tr>\n",
       "    <tr>\n",
       "      <th>34153942</th>\n",
       "      <td>Weak Hip Strength Increases Dynamic Knee Valgu...</td>\n",
       "      <td>Clinical Scenario: Dynamic knee valgus (DKV) i...</td>\n",
       "    </tr>\n",
       "    <tr>\n",
       "      <th>34153964</th>\n",
       "      <td>Current and Future Projections of Amyotrophic ...</td>\n",
       "      <td>Various methodologies have been reported to as...</td>\n",
       "    </tr>\n",
       "    <tr>\n",
       "      <th>34153968</th>\n",
       "      <td>Disparities between Asian and Non-Asian Thromb...</td>\n",
       "      <td>As outcomes for acute ischemic stroke (AIS) va...</td>\n",
       "    </tr>\n",
       "    <tr>\n",
       "      <th>34153978</th>\n",
       "      <td>Maternal Factors Predicting Loss to Follow-Up ...</td>\n",
       "      <td>Because hearing loss in children can result in...</td>\n",
       "    </tr>\n",
       "  </tbody>\n",
       "</table>\n",
       "</div>"
      ],
      "text/plain": [
       "                                                       Title  \\\n",
       "ArticleID                                                      \n",
       "34153941   Stable Coordination Variability in Overground ...   \n",
       "34153942   Weak Hip Strength Increases Dynamic Knee Valgu...   \n",
       "34153964   Current and Future Projections of Amyotrophic ...   \n",
       "34153968   Disparities between Asian and Non-Asian Thromb...   \n",
       "34153978   Maternal Factors Predicting Loss to Follow-Up ...   \n",
       "\n",
       "                                                    Abstract  \n",
       "ArticleID                                                     \n",
       "34153941   Coordination variability (CV) is commonly anal...  \n",
       "34153942   Clinical Scenario: Dynamic knee valgus (DKV) i...  \n",
       "34153964   Various methodologies have been reported to as...  \n",
       "34153968   As outcomes for acute ischemic stroke (AIS) va...  \n",
       "34153978   Because hearing loss in children can result in...  "
      ]
     },
     "execution_count": 4,
     "metadata": {},
     "output_type": "execute_result"
    }
   ],
   "source": [
    "df.head()\n"
   ]
  },
  {
   "cell_type": "markdown",
   "metadata": {},
   "source": [
    "TODO: add more EDA\n"
   ]
  },
  {
   "cell_type": "markdown",
   "metadata": {},
   "source": [
    "## Following simple approach from [here](https://towardsdatascience.com/topic-modeling-and-latent-dirichlet-allocation-in-python-9bf156893c24)\n",
    "\n",
    "### Importing required packages & downloading assets\n"
   ]
  },
  {
   "cell_type": "code",
   "execution_count": 5,
   "metadata": {},
   "outputs": [
    {
     "name": "stderr",
     "output_type": "stream",
     "text": [
      "[nltk_data] Downloading package wordnet to /home/prime/nltk_data...\n",
      "[nltk_data]   Package wordnet is already up-to-date!\n",
      "[nltk_data] Downloading package stopwords to /home/prime/nltk_data...\n",
      "[nltk_data]   Package stopwords is already up-to-date!\n"
     ]
    },
    {
     "data": {
      "text/plain": [
       "True"
      ]
     },
     "execution_count": 5,
     "metadata": {},
     "output_type": "execute_result"
    }
   ],
   "source": [
    "import nltk\n",
    "\n",
    "nltk.download(\"wordnet\")\n",
    "nltk.download(\"stopwords\")\n"
   ]
  },
  {
   "cell_type": "code",
   "execution_count": 6,
   "metadata": {},
   "outputs": [],
   "source": [
    "from gensim.utils import simple_preprocess\n",
    "from gensim.parsing.preprocessing import STOPWORDS\n",
    "from gensim.corpora import Dictionary\n",
    "from gensim.models import TfidfModel, LdaMulticore\n",
    "from nltk.corpus import stopwords\n",
    "from nltk.stem import WordNetLemmatizer\n"
   ]
  },
  {
   "cell_type": "markdown",
   "metadata": {},
   "source": [
    "### combining `gensim`'s stopwords w/ `nltk`'s\n"
   ]
  },
  {
   "cell_type": "code",
   "execution_count": 7,
   "metadata": {},
   "outputs": [],
   "source": [
    "STOPWORDS = STOPWORDS.union(set(stopwords.words(\"english\")))\n"
   ]
  },
  {
   "cell_type": "markdown",
   "metadata": {},
   "source": [
    "### Preprocessing\n"
   ]
  },
  {
   "cell_type": "code",
   "execution_count": 8,
   "metadata": {},
   "outputs": [],
   "source": [
    "# combine article title w/ abstract to obtain a single document\n",
    "df_joined = df[\"Title\"] + \" \" + df[\"Abstract\"]\n",
    "df_joined.name = \"document\"\n",
    "\n",
    "\n",
    "def preprocess(\n",
    "    document: str,\n",
    "    min_len: int = 2,\n",
    "    max_len: int = 15,\n",
    "    stopwords: frozenset = frozenset(),\n",
    "    pos: Union[str, list] = \"n\",\n",
    ") -> str:\n",
    "    \"\"\"Tokenise the document, drop stopwords, then lowercasing and lemmatising each token\n",
    "\n",
    "    TODO:\n",
    "    \"\"\"\n",
    "    pp_doc = simple_preprocess(document, min_len=min_len, max_len=max_len)\n",
    "    doc_non_stop = [token for token in pp_doc if token not in stopwords]\n",
    "    lemmatise = WordNetLemmatizer().lemmatize\n",
    "    if type(pos) == str:\n",
    "        return [lemmatise(token, pos=pos) for token in doc_non_stop]\n",
    "    else:\n",
    "        result = doc_non_stop\n",
    "        for p in pos:\n",
    "            result = [lemmatise(token, pos=p) for token in result]\n",
    "        return result\n",
    "\n",
    "\n",
    "# preprocessing the corpus\n",
    "pos = [\"a\", \"n\", \"r\", \"s\", \"v\"]\n",
    "df_processed = df_joined.apply(preprocess, stopwords=STOPWORDS, pos=pos)\n"
   ]
  },
  {
   "cell_type": "code",
   "execution_count": 9,
   "metadata": {},
   "outputs": [
    {
     "data": {
      "text/plain": [
       "'research cooperative mechanism government enterprise basin ecological compensation base differential game ecological compensation important mean basin pollution control exist research mainly focus government level ignore important role enterprise paper introduce enterprise process ecological compensation firstly suppose ecological compensation compose government enterprise government dominant position ecological compensation input government enterprise produce social reputation ecological compensation enterprise produce advertise effect consumer demand affect social reputation advertise effect compensation strategy government enterprise analyze construct differential game model research show certain condition cost share mechanism realize pareto improvement benefit government enterprise cooperative mechanism benefit government enterprise optimal finally validity conclusion verify case analysis sensitivity analysis relevant parameter carry conclusion provide reference government establish sustainable watershed ecological compensation mechanism'"
      ]
     },
     "execution_count": 9,
     "metadata": {},
     "output_type": "execute_result"
    }
   ],
   "source": [
    "# show a random document\n",
    "\" \".join(df_processed.iloc[np.random.randint(0, len(df_processed))])\n"
   ]
  },
  {
   "cell_type": "markdown",
   "metadata": {},
   "source": [
    "### Counting tokens\n"
   ]
  },
  {
   "cell_type": "code",
   "execution_count": 10,
   "metadata": {},
   "outputs": [],
   "source": [
    "dictionary = Dictionary(df_processed)\n"
   ]
  },
  {
   "cell_type": "markdown",
   "metadata": {},
   "source": [
    "### Filtering out words\n"
   ]
  },
  {
   "cell_type": "code",
   "execution_count": 11,
   "metadata": {},
   "outputs": [],
   "source": [
    "# removing tokens that appear in less that 1% (.01) or in more than 50% (.5) of the corpus\n",
    "dictionary.filter_extremes(int(0.01 * len(df_processed)), 0.5, None)\n"
   ]
  },
  {
   "cell_type": "markdown",
   "metadata": {},
   "source": [
    "### Creating BoW\n"
   ]
  },
  {
   "cell_type": "code",
   "execution_count": 12,
   "metadata": {},
   "outputs": [],
   "source": [
    "df_bow = df_processed.apply(dictionary.doc2bow)\n"
   ]
  },
  {
   "cell_type": "markdown",
   "metadata": {},
   "source": [
    "### Creating TF-IDF model\n"
   ]
  },
  {
   "cell_type": "code",
   "execution_count": 13,
   "metadata": {},
   "outputs": [],
   "source": [
    "tfidf_model = TfidfModel(df_bow.values.tolist())\n"
   ]
  },
  {
   "cell_type": "code",
   "execution_count": 14,
   "metadata": {},
   "outputs": [],
   "source": [
    "df_tfidf = df_bow.apply(lambda doc: tfidf_model[doc])\n"
   ]
  },
  {
   "cell_type": "markdown",
   "metadata": {},
   "source": [
    "### LDA model\n"
   ]
  },
  {
   "cell_type": "code",
   "execution_count": 15,
   "metadata": {},
   "outputs": [
    {
     "data": {
      "text/plain": [
       "[(69,\n",
       "  '0.011*\"cell\" + 0.009*\"cd\" + 0.009*\"day\" + 0.009*\"age\" + 0.008*\"case\" + 0.007*\"tumor\" + 0.007*\"covid\" + 0.007*\"group\" + 0.006*\"high\" + 0.006*\"present\"'),\n",
       " (34,\n",
       "  '0.012*\"dna\" + 0.010*\"data\" + 0.009*\"cell\" + 0.008*\"infection\" + 0.007*\"high\" + 0.007*\"patient\" + 0.007*\"model\" + 0.007*\"base\" + 0.007*\"analysis\" + 0.006*\"approach\"'),\n",
       " (3,\n",
       "  '0.009*\"process\" + 0.009*\"clinical\" + 0.009*\"cell\" + 0.009*\"patient\" + 0.008*\"review\" + 0.007*\"include\" + 0.007*\"indicator\" + 0.007*\"care\" + 0.007*\"dna\" + 0.006*\"damage\"'),\n",
       " (62,\n",
       "  '0.010*\"patient\" + 0.008*\"analysis\" + 0.008*\"screen\" + 0.008*\"data\" + 0.007*\"sequence\" + 0.007*\"method\" + 0.006*\"present\" + 0.006*\"age\" + 0.005*\"health\" + 0.005*\"disease\"'),\n",
       " (8,\n",
       "  '0.024*\"cancer\" + 0.015*\"cell\" + 0.014*\"patient\" + 0.009*\"effect\" + 0.009*\"treatment\" + 0.009*\"increase\" + 0.008*\"high\" + 0.008*\"health\" + 0.007*\"base\" + 0.006*\"screen\"'),\n",
       " (70,\n",
       "  '0.012*\"treatment\" + 0.010*\"protein\" + 0.008*\"high\" + 0.007*\"case\" + 0.007*\"cell\" + 0.007*\"increase\" + 0.007*\"cancer\" + 0.006*\"patient\" + 0.006*\"include\" + 0.006*\"disease\"'),\n",
       " (42,\n",
       "  '0.012*\"high\" + 0.007*\"base\" + 0.007*\"include\" + 0.007*\"health\" + 0.007*\"time\" + 0.007*\"ci\" + 0.007*\"year\" + 0.007*\"increase\" + 0.007*\"low\" + 0.006*\"test\"'),\n",
       " (32,\n",
       "  '0.012*\"model\" + 0.009*\"analysis\" + 0.007*\"treatment\" + 0.007*\"effect\" + 0.007*\"high\" + 0.007*\"base\" + 0.007*\"method\" + 0.006*\"size\" + 0.006*\"structure\" + 0.006*\"water\"'),\n",
       " (68,\n",
       "  '0.015*\"model\" + 0.009*\"child\" + 0.009*\"sample\" + 0.008*\"data\" + 0.007*\"analysis\" + 0.007*\"present\" + 0.007*\"pregnancy\" + 0.007*\"target\" + 0.006*\"use\" + 0.006*\"disease\"'),\n",
       " (52,\n",
       "  '0.015*\"covid\" + 0.009*\"analysis\" + 0.009*\"cell\" + 0.008*\"result\" + 0.007*\"report\" + 0.007*\"high\" + 0.007*\"human\" + 0.006*\"base\" + 0.006*\"increase\" + 0.006*\"data\"'),\n",
       " (85,\n",
       "  '0.021*\"patient\" + 0.010*\"treatment\" + 0.009*\"increase\" + 0.007*\"cell\" + 0.007*\"therapy\" + 0.006*\"control\" + 0.006*\"result\" + 0.006*\"review\" + 0.006*\"group\" + 0.005*\"trial\"'),\n",
       " (35,\n",
       "  '0.022*\"patient\" + 0.008*\"data\" + 0.008*\"covid\" + 0.008*\"analysis\" + 0.008*\"health\" + 0.007*\"control\" + 0.007*\"report\" + 0.006*\"result\" + 0.006*\"protein\" + 0.006*\"model\"'),\n",
       " (45,\n",
       "  '0.012*\"patient\" + 0.012*\"high\" + 0.012*\"year\" + 0.011*\"disease\" + 0.011*\"age\" + 0.009*\"factor\" + 0.009*\"analysis\" + 0.008*\"risk\" + 0.007*\"outcome\" + 0.007*\"model\"'),\n",
       " (6,\n",
       "  '0.020*\"health\" + 0.011*\"patient\" + 0.010*\"care\" + 0.010*\"group\" + 0.009*\"control\" + 0.008*\"treatment\" + 0.008*\"network\" + 0.007*\"analysis\" + 0.007*\"associate\" + 0.006*\"service\"'),\n",
       " (47,\n",
       "  '0.020*\"patient\" + 0.010*\"analysis\" + 0.010*\"risk\" + 0.007*\"case\" + 0.007*\"age\" + 0.007*\"high\" + 0.007*\"model\" + 0.006*\"factor\" + 0.006*\"include\" + 0.006*\"ci\"'),\n",
       " (2,\n",
       "  '0.020*\"covid\" + 0.011*\"test\" + 0.009*\"patient\" + 0.009*\"infection\" + 0.008*\"disease\" + 0.008*\"adolescent\" + 0.007*\"include\" + 0.007*\"case\" + 0.007*\"increase\" + 0.006*\"health\"'),\n",
       " (59,\n",
       "  '0.029*\"patient\" + 0.011*\"disease\" + 0.008*\"time\" + 0.008*\"year\" + 0.008*\"compare\" + 0.007*\"treatment\" + 0.006*\"hiv\" + 0.006*\"care\" + 0.006*\"outcome\" + 0.006*\"clinical\"'),\n",
       " (0,\n",
       "  '0.013*\"data\" + 0.009*\"high\" + 0.007*\"product\" + 0.007*\"base\" + 0.006*\"treatment\" + 0.006*\"include\" + 0.006*\"rate\" + 0.006*\"level\" + 0.006*\"new\" + 0.006*\"health\"'),\n",
       " (49,\n",
       "  '0.011*\"patient\" + 0.009*\"analysis\" + 0.009*\"method\" + 0.008*\"factor\" + 0.007*\"group\" + 0.007*\"disease\" + 0.007*\"bone\" + 0.007*\"level\" + 0.007*\"expression\" + 0.006*\"time\"'),\n",
       " (75,\n",
       "  '0.009*\"survey\" + 0.009*\"tumor\" + 0.008*\"base\" + 0.008*\"year\" + 0.007*\"intervention\" + 0.007*\"include\" + 0.007*\"population\" + 0.006*\"identify\" + 0.006*\"disease\" + 0.006*\"health\"')]"
      ]
     },
     "execution_count": 15,
     "metadata": {},
     "output_type": "execute_result"
    }
   ],
   "source": [
    "lda_model = LdaMulticore(df_bow, id2word=dictionary)\n",
    "lda_model.print_topics()\n"
   ]
  },
  {
   "cell_type": "code",
   "execution_count": 16,
   "metadata": {},
   "outputs": [],
   "source": [
    "def get_top_n_topics(\n",
    "    corpus: pd.DataFrame, model: LdaMulticore, n: int = 3\n",
    ") -> pd.DataFrame:\n",
    "    \"\"\"calculates the top `n` topics for each document in `df` through the model\n",
    "    \n",
    "    Parameters:\n",
    "    -----------\n",
    "    \n",
    "    Returns:\n",
    "    --------\n",
    "    \n",
    "    TODO: complete the pydoc\n",
    "    \"\"\"\n",
    "    # if not isinstance(df, pd.DataFrame):\n",
    "    #     df = pd.DataFrame(df)\n",
    "    df_lda = corpus.apply(\n",
    "        lambda doc: sorted(model[doc], key=(lambda tup: tup[1]), reverse=True)[:n]\n",
    "    )\n",
    "    corpus = pd.DataFrame(corpus)\n",
    "\n",
    "    for i in range(n):\n",
    "        corpus[f\"topic_{i+1}\"] = df_lda.apply(\n",
    "            lambda topics: topics[i][0] if len(topics) > i else None\n",
    "        )\n",
    "        corpus[f\"topic_{i+1}_prop\"] = df_lda.apply(\n",
    "            lambda topics: topics[i][1] if len(topics) > i else None\n",
    "        )\n",
    "\n",
    "    # FIXME: some documents might have less than `n` possible topics\n",
    "    # to avoid N/As, set them to the previous topic\n",
    "    for i in range(2, n + 1):\n",
    "        idx = corpus[f\"topic_{i}\"].isna()\n",
    "        cols = [f\"topic_{i}\", f\"topic_{i}_prop\"]\n",
    "        cols_prev = [f\"topic_{i-1}\", f\"topic_{i-1}_prop\"]\n",
    "        corpus.loc[idx, cols] = corpus.loc[idx, cols_prev].values\n",
    "\n",
    "    return corpus.drop(columns=[\"document\"])\n"
   ]
  },
  {
   "cell_type": "code",
   "execution_count": 17,
   "metadata": {},
   "outputs": [],
   "source": [
    "df_topic = get_top_n_topics(df_bow, lda_model, 3)\n",
    "df_topic.head()\n"
   ]
  },
  {
   "cell_type": "code",
   "execution_count": 19,
   "metadata": {},
   "outputs": [],
   "source": [
    "df_topic.to_csv(os.path.join(DATA_PATH, \"bow_100_topic.csv\"))\n"
   ]
  },
  {
   "cell_type": "code",
   "execution_count": 20,
   "metadata": {},
   "outputs": [
    {
     "data": {
      "text/plain": [
       "[(53,\n",
       "  '0.006*\"model\" + 0.005*\"patient\" + 0.005*\"data\" + 0.004*\"human\" + 0.004*\"group\" + 0.004*\"chronic\" + 0.004*\"extraction\" + 0.004*\"method\" + 0.004*\"hand\" + 0.004*\"function\"'),\n",
       " (48,\n",
       "  '0.009*\"habitat\" + 0.007*\"social\" + 0.007*\"fusion\" + 0.007*\"model\" + 0.006*\"disease\" + 0.006*\"distribution\" + 0.006*\"patient\" + 0.006*\"fluid\" + 0.005*\"inhibitor\" + 0.005*\"health\"'),\n",
       " (24,\n",
       "  '0.008*\"patient\" + 0.008*\"health\" + 0.008*\"group\" + 0.007*\"cov\" + 0.007*\"sars\" + 0.005*\"covid\" + 0.005*\"complication\" + 0.005*\"disease\" + 0.005*\"post\" + 0.005*\"community\"'),\n",
       " (60,\n",
       "  '0.007*\"specie\" + 0.007*\"covid\" + 0.006*\"patient\" + 0.005*\"review\" + 0.005*\"cod\" + 0.005*\"alcohol\" + 0.005*\"infection\" + 0.005*\"disease\" + 0.005*\"sequence\" + 0.004*\"consumption\"'),\n",
       " (82,\n",
       "  '0.007*\"health\" + 0.005*\"behaviour\" + 0.005*\"cell\" + 0.005*\"problem\" + 0.004*\"patient\" + 0.004*\"data\" + 0.004*\"culture\" + 0.004*\"protein\" + 0.004*\"technique\" + 0.004*\"covid\"'),\n",
       " (28,\n",
       "  '0.008*\"patient\" + 0.008*\"protein\" + 0.008*\"systemic\" + 0.006*\"infection\" + 0.006*\"disease\" + 0.006*\"treatment\" + 0.005*\"iv\" + 0.005*\"chemotherapy\" + 0.005*\"gene\" + 0.005*\"stage\"'),\n",
       " (70,\n",
       "  '0.007*\"case\" + 0.006*\"framework\" + 0.005*\"function\" + 0.005*\"hiv\" + 0.005*\"ca\" + 0.005*\"patient\" + 0.005*\"chemotherapy\" + 0.005*\"identify\" + 0.005*\"iv\" + 0.005*\"cognitive\"'),\n",
       " (62,\n",
       "  '0.007*\"mutation\" + 0.006*\"feature\" + 0.006*\"epidemic\" + 0.005*\"access\" + 0.005*\"virus\" + 0.005*\"human\" + 0.005*\"data\" + 0.005*\"early\" + 0.005*\"pandemic\" + 0.005*\"extraction\"'),\n",
       " (3,\n",
       "  '0.006*\"patient\" + 0.005*\"cognitive\" + 0.005*\"case\" + 0.004*\"intervention\" + 0.004*\"function\" + 0.004*\"technology\" + 0.004*\"rehabilitation\" + 0.004*\"quality\" + 0.004*\"data\" + 0.004*\"female\"'),\n",
       " (40,\n",
       "  '0.013*\"covid\" + 0.008*\"carcinoma\" + 0.008*\"stage\" + 0.008*\"patient\" + 0.007*\"antibody\" + 0.006*\"old\" + 0.006*\"adult\" + 0.006*\"severe\" + 0.006*\"series\" + 0.005*\"chemotherapy\"'),\n",
       " (22,\n",
       "  '0.006*\"disorder\" + 0.006*\"data\" + 0.005*\"mental\" + 0.005*\"genetic\" + 0.005*\"review\" + 0.005*\"child\" + 0.004*\"community\" + 0.004*\"cod\" + 0.004*\"intervention\" + 0.004*\"criterion\"'),\n",
       " (83,\n",
       "  '0.008*\"patient\" + 0.008*\"covid\" + 0.007*\"cell\" + 0.005*\"primary\" + 0.005*\"pandemic\" + 0.004*\"age\" + 0.004*\"expression\" + 0.004*\"admission\" + 0.004*\"clinical\" + 0.004*\"sex\"'),\n",
       " (7,\n",
       "  '0.009*\"patient\" + 0.009*\"intervention\" + 0.006*\"cell\" + 0.006*\"group\" + 0.006*\"men\" + 0.006*\"lung\" + 0.006*\"consumption\" + 0.006*\"pain\" + 0.006*\"carcinoma\" + 0.005*\"trial\"'),\n",
       " (65,\n",
       "  '0.010*\"patient\" + 0.007*\"hiv\" + 0.007*\"primary\" + 0.006*\"nutritional\" + 0.005*\"health\" + 0.005*\"muscle\" + 0.005*\"requirement\" + 0.005*\"recovery\" + 0.005*\"score\" + 0.005*\"english\"'),\n",
       " (88,\n",
       "  '0.013*\"patient\" + 0.008*\"cd\" + 0.007*\"trajectory\" + 0.007*\"train\" + 0.007*\"artery\" + 0.006*\"antibody\" + 0.006*\"head\" + 0.006*\"liquid\" + 0.005*\"disease\" + 0.005*\"care\"'),\n",
       " (2,\n",
       "  '0.010*\"patient\" + 0.005*\"human\" + 0.005*\"health\" + 0.004*\"procedure\" + 0.004*\"form\" + 0.004*\"case\" + 0.004*\"time\" + 0.004*\"covid\" + 0.004*\"rehabilitation\" + 0.004*\"student\"'),\n",
       " (32,\n",
       "  '0.006*\"score\" + 0.006*\"status\" + 0.004*\"patient\" + 0.004*\"attitude\" + 0.004*\"health\" + 0.004*\"model\" + 0.004*\"knowledge\" + 0.004*\"disease\" + 0.004*\"quality\" + 0.003*\"test\"'),\n",
       " (36,\n",
       "  '0.007*\"review\" + 0.006*\"intermediate\" + 0.006*\"patient\" + 0.005*\"exercise\" + 0.005*\"literature\" + 0.005*\"quality\" + 0.005*\"safety\" + 0.005*\"gene\" + 0.005*\"plan\" + 0.005*\"risk\"'),\n",
       " (30,\n",
       "  '0.008*\"covid\" + 0.006*\"tool\" + 0.006*\"pandemic\" + 0.006*\"care\" + 0.005*\"sample\" + 0.005*\"health\" + 0.005*\"strain\" + 0.005*\"vaccine\" + 0.005*\"individual\" + 0.005*\"measure\"'),\n",
       " (56,\n",
       "  '0.009*\"patient\" + 0.007*\"disease\" + 0.006*\"control\" + 0.005*\"treatment\" + 0.005*\"function\" + 0.005*\"effect\" + 0.005*\"injury\" + 0.005*\"ci\" + 0.005*\"covid\" + 0.005*\"sars\"')]"
      ]
     },
     "execution_count": 20,
     "metadata": {},
     "output_type": "execute_result"
    }
   ],
   "source": [
    "lda_model = LdaMulticore(df_tfidf, id2word=dictionary)\n",
    "lda_model.print_topics()\n"
   ]
  },
  {
   "cell_type": "code",
   "execution_count": 21,
   "metadata": {},
   "outputs": [
    {
     "data": {
      "text/html": [
       "<div>\n",
       "<style scoped>\n",
       "    .dataframe tbody tr th:only-of-type {\n",
       "        vertical-align: middle;\n",
       "    }\n",
       "\n",
       "    .dataframe tbody tr th {\n",
       "        vertical-align: top;\n",
       "    }\n",
       "\n",
       "    .dataframe thead th {\n",
       "        text-align: right;\n",
       "    }\n",
       "</style>\n",
       "<table border=\"1\" class=\"dataframe\">\n",
       "  <thead>\n",
       "    <tr style=\"text-align: right;\">\n",
       "      <th></th>\n",
       "      <th>topic_1</th>\n",
       "      <th>topic_1_prop</th>\n",
       "      <th>topic_2</th>\n",
       "      <th>topic_2_prop</th>\n",
       "      <th>topic_3</th>\n",
       "      <th>topic_3_prop</th>\n",
       "    </tr>\n",
       "    <tr>\n",
       "      <th>ArticleID</th>\n",
       "      <th></th>\n",
       "      <th></th>\n",
       "      <th></th>\n",
       "      <th></th>\n",
       "      <th></th>\n",
       "      <th></th>\n",
       "    </tr>\n",
       "  </thead>\n",
       "  <tbody>\n",
       "    <tr>\n",
       "      <th>34153941</th>\n",
       "      <td>7</td>\n",
       "      <td>0.231999</td>\n",
       "      <td>2.0</td>\n",
       "      <td>0.204838</td>\n",
       "      <td>85.0</td>\n",
       "      <td>0.159615</td>\n",
       "    </tr>\n",
       "    <tr>\n",
       "      <th>34153942</th>\n",
       "      <td>67</td>\n",
       "      <td>0.334933</td>\n",
       "      <td>44.0</td>\n",
       "      <td>0.207649</td>\n",
       "      <td>70.0</td>\n",
       "      <td>0.195407</td>\n",
       "    </tr>\n",
       "    <tr>\n",
       "      <th>34153964</th>\n",
       "      <td>72</td>\n",
       "      <td>0.326289</td>\n",
       "      <td>85.0</td>\n",
       "      <td>0.274621</td>\n",
       "      <td>24.0</td>\n",
       "      <td>0.166924</td>\n",
       "    </tr>\n",
       "    <tr>\n",
       "      <th>34153968</th>\n",
       "      <td>1</td>\n",
       "      <td>0.377170</td>\n",
       "      <td>11.0</td>\n",
       "      <td>0.313724</td>\n",
       "      <td>95.0</td>\n",
       "      <td>0.193986</td>\n",
       "    </tr>\n",
       "    <tr>\n",
       "      <th>34153978</th>\n",
       "      <td>16</td>\n",
       "      <td>0.301278</td>\n",
       "      <td>64.0</td>\n",
       "      <td>0.190193</td>\n",
       "      <td>31.0</td>\n",
       "      <td>0.146866</td>\n",
       "    </tr>\n",
       "  </tbody>\n",
       "</table>\n",
       "</div>"
      ],
      "text/plain": [
       "           topic_1  topic_1_prop  topic_2  topic_2_prop  topic_3  topic_3_prop\n",
       "ArticleID                                                                     \n",
       "34153941         7      0.231999      2.0      0.204838     85.0      0.159615\n",
       "34153942        67      0.334933     44.0      0.207649     70.0      0.195407\n",
       "34153964        72      0.326289     85.0      0.274621     24.0      0.166924\n",
       "34153968         1      0.377170     11.0      0.313724     95.0      0.193986\n",
       "34153978        16      0.301278     64.0      0.190193     31.0      0.146866"
      ]
     },
     "execution_count": 21,
     "metadata": {},
     "output_type": "execute_result"
    }
   ],
   "source": [
    "df_topic = get_top_n_topics(df_tfidf, lda_model, 3)\n",
    "df_topic.head()\n"
   ]
  },
  {
   "cell_type": "code",
   "execution_count": 22,
   "metadata": {},
   "outputs": [],
   "source": [
    "df_topic.to_csv(os.path.join(DATA_PATH, \"tfidf_100_topic.csv\"))\n"
   ]
  }
 ],
 "metadata": {
  "interpreter": {
   "hash": "53c3e8f2eb9682b6c71ce85616632b4da73b82d13cfbbe1554e54cc934f411d0"
  },
  "kernelspec": {
   "display_name": "Python 3.9.10 ('dsenv')",
   "language": "python",
   "name": "python3"
  },
  "language_info": {
   "codemirror_mode": {
    "name": "ipython",
    "version": 3
   },
   "file_extension": ".py",
   "mimetype": "text/x-python",
   "name": "python",
   "nbconvert_exporter": "python",
   "pygments_lexer": "ipython3",
   "version": "3.9.10"
  },
  "orig_nbformat": 4
 },
 "nbformat": 4,
 "nbformat_minor": 2
}
