{
 "cells": [
  {
   "cell_type": "markdown",
   "metadata": {},
   "source": [
    "# Naming topics\n",
    "\n",
    "## Importing modules &amp; defining globals\n"
   ]
  },
  {
   "cell_type": "code",
   "execution_count": 17,
   "metadata": {},
   "outputs": [],
   "source": [
    "import os\n",
    "import numpy as np\n",
    "import pandas as pd\n",
    "\n",
    "from gensim.models import LdaModel\n",
    "\n",
    "RAW_DATA_PATH = \"../data/raw\"\n",
    "PKL_DATA_PATH = \"../data/pickles\"\n"
   ]
  },
  {
   "cell_type": "markdown",
   "metadata": {},
   "source": [
    "## Loading the saved `LdaMulticore` model\n"
   ]
  },
  {
   "cell_type": "code",
   "execution_count": 18,
   "metadata": {},
   "outputs": [],
   "source": [
    "path = os.path.join(PKL_DATA_PATH, \"lda_model.pkl\")\n",
    "lda_model = LdaModel.load(path)\n"
   ]
  },
  {
   "cell_type": "markdown",
   "id": "1bba02dd",
   "metadata": {
    "papermill": {
     "duration": 0.140748,
     "end_time": "2022-04-13T15:22:43.177903",
     "exception": false,
     "start_time": "2022-04-13T15:22:43.037155",
     "status": "completed"
    },
    "tags": []
   },
   "source": [
    "## Naming the topics\n",
    "\n",
    "According to [Luis Serrano](https://ca.linkedin.com/in/luisgserrano) in this [video](https://www.youtube.com/watch?v=T05t-SqKArY);\n",
    "labeling/naming a topic is a task that is best done by humans.\n",
    "\n",
    "A naive approach would be:\n",
    "\n",
    "    the name of the topic would be included in the title of the articles.\n",
    "\n",
    "<!-- here is a simple hack to try using ML for the topic name. -->\n",
    "\n",
    "<!-- Exploiting TF-IDF, for each topic, the lower the IDF score of a token, the more it appears in documents; intuitively the higher the chance that this particular token is the name of the topic. -->\n",
    "\n",
    "so we gather the top contributing words per topic, across all topics.\n"
   ]
  },
  {
   "cell_type": "code",
   "execution_count": 19,
   "id": "a57700c8",
   "metadata": {
    "execution": {
     "iopub.execute_input": "2022-04-13T15:22:43.464247Z",
     "iopub.status.busy": "2022-04-13T15:22:43.462209Z",
     "iopub.status.idle": "2022-04-13T15:22:43.475489Z",
     "shell.execute_reply": "2022-04-13T15:22:43.474901Z",
     "shell.execute_reply.started": "2022-04-13T15:07:42.422755Z"
    },
    "papermill": {
     "duration": 0.157128,
     "end_time": "2022-04-13T15:22:43.475645",
     "exception": false,
     "start_time": "2022-04-13T15:22:43.318517",
     "status": "completed"
    },
    "tags": []
   },
   "outputs": [
    {
     "data": {
      "text/plain": [
       "[(0,\n",
       "  [('patient', 0.030850375),\n",
       "   ('group', 0.008121144),\n",
       "   ('analysis', 0.0070354235),\n",
       "   ('covid', 0.0062768757),\n",
       "   ('risk', 0.005522125),\n",
       "   ('data', 0.0053980565),\n",
       "   ('high', 0.005219881),\n",
       "   ('model', 0.005129929),\n",
       "   ('treatment', 0.005111212),\n",
       "   ('result', 0.0050725886)]),\n",
       " (1,\n",
       "  [('patient', 0.011360956),\n",
       "   ('health', 0.009242357),\n",
       "   ('level', 0.006977953),\n",
       "   ('analysis', 0.006772014),\n",
       "   ('treatment', 0.006655649),\n",
       "   ('covid', 0.0063779918),\n",
       "   ('data', 0.0062814853),\n",
       "   ('high', 0.0061813607),\n",
       "   ('model', 0.006060855),\n",
       "   ('include', 0.005775447)]),\n",
       " (2,\n",
       "  [('cell', 0.0097719375),\n",
       "   ('high', 0.007295579),\n",
       "   ('group', 0.006840076),\n",
       "   ('effect', 0.0059798807),\n",
       "   ('patient', 0.0059255785),\n",
       "   ('control', 0.0055863317),\n",
       "   ('result', 0.005190926),\n",
       "   ('increase', 0.0050835307),\n",
       "   ('health', 0.005002963),\n",
       "   ('risk', 0.004952738)]),\n",
       " (3,\n",
       "  [('patient', 0.009856614),\n",
       "   ('high', 0.00812396),\n",
       "   ('base', 0.007709249),\n",
       "   ('specie', 0.0075495476),\n",
       "   ('data', 0.0071960366),\n",
       "   ('result', 0.005903087),\n",
       "   ('cell', 0.0057248487),\n",
       "   ('health', 0.005675845),\n",
       "   ('group', 0.0056084218),\n",
       "   ('analysis', 0.005545091)]),\n",
       " (4,\n",
       "  [('health', 0.008338106),\n",
       "   ('patient', 0.007166847),\n",
       "   ('analysis', 0.0069907783),\n",
       "   ('increase', 0.0063452264),\n",
       "   ('disease', 0.0061749653),\n",
       "   ('high', 0.006036457),\n",
       "   ('cancer', 0.0057588927),\n",
       "   ('group', 0.0054034716),\n",
       "   ('cell', 0.0053049177),\n",
       "   ('data', 0.0048191394)]),\n",
       " (5,\n",
       "  [('patient', 0.009390377),\n",
       "   ('high', 0.0083949445),\n",
       "   ('health', 0.0061231167),\n",
       "   ('level', 0.0060627656),\n",
       "   ('covid', 0.0056742905),\n",
       "   ('low', 0.005581899),\n",
       "   ('increase', 0.0052031106),\n",
       "   ('specie', 0.0050126305),\n",
       "   ('report', 0.004980987),\n",
       "   ('include', 0.0049469494)]),\n",
       " (6,\n",
       "  [('patient', 0.008414542),\n",
       "   ('high', 0.00716261),\n",
       "   ('model', 0.006498887),\n",
       "   ('base', 0.006438124),\n",
       "   ('cell', 0.005946865),\n",
       "   ('disease', 0.005890275),\n",
       "   ('result', 0.0058299326),\n",
       "   ('protein', 0.005782733),\n",
       "   ('health', 0.0057363384),\n",
       "   ('data', 0.005472133)])]"
      ]
     },
     "execution_count": 19,
     "metadata": {},
     "output_type": "execute_result"
    }
   ],
   "source": [
    "topics_word = lda_model.show_topics(formatted=False)\n",
    "topics_word\n"
   ]
  },
  {
   "cell_type": "markdown",
   "id": "5f7f3f15",
   "metadata": {
    "papermill": {
     "duration": 0.140567,
     "end_time": "2022-04-13T15:22:43.759335",
     "exception": false,
     "start_time": "2022-04-13T15:22:43.618768",
     "status": "completed"
    },
    "tags": []
   },
   "source": [
    "ignoring for a moment the participation ratio of the tokens\n"
   ]
  },
  {
   "cell_type": "code",
   "execution_count": 20,
   "id": "6e2da62b",
   "metadata": {
    "execution": {
     "iopub.execute_input": "2022-04-13T15:22:44.050311Z",
     "iopub.status.busy": "2022-04-13T15:22:44.049586Z",
     "iopub.status.idle": "2022-04-13T15:22:44.056553Z",
     "shell.execute_reply": "2022-04-13T15:22:44.057127Z",
     "shell.execute_reply.started": "2022-04-13T15:09:03.040095Z"
    },
    "papermill": {
     "duration": 0.154561,
     "end_time": "2022-04-13T15:22:44.057307",
     "exception": false,
     "start_time": "2022-04-13T15:22:43.902746",
     "status": "completed"
    },
    "tags": []
   },
   "outputs": [
    {
     "data": {
      "text/plain": [
       "[{'analysis',\n",
       "  'covid',\n",
       "  'data',\n",
       "  'group',\n",
       "  'high',\n",
       "  'model',\n",
       "  'patient',\n",
       "  'result',\n",
       "  'risk',\n",
       "  'treatment'},\n",
       " {'analysis',\n",
       "  'covid',\n",
       "  'data',\n",
       "  'health',\n",
       "  'high',\n",
       "  'include',\n",
       "  'level',\n",
       "  'model',\n",
       "  'patient',\n",
       "  'treatment'},\n",
       " {'cell',\n",
       "  'control',\n",
       "  'effect',\n",
       "  'group',\n",
       "  'health',\n",
       "  'high',\n",
       "  'increase',\n",
       "  'patient',\n",
       "  'result',\n",
       "  'risk'},\n",
       " {'analysis',\n",
       "  'base',\n",
       "  'cell',\n",
       "  'data',\n",
       "  'group',\n",
       "  'health',\n",
       "  'high',\n",
       "  'patient',\n",
       "  'result',\n",
       "  'specie'},\n",
       " {'analysis',\n",
       "  'cancer',\n",
       "  'cell',\n",
       "  'data',\n",
       "  'disease',\n",
       "  'group',\n",
       "  'health',\n",
       "  'high',\n",
       "  'increase',\n",
       "  'patient'},\n",
       " {'covid',\n",
       "  'health',\n",
       "  'high',\n",
       "  'include',\n",
       "  'increase',\n",
       "  'level',\n",
       "  'low',\n",
       "  'patient',\n",
       "  'report',\n",
       "  'specie'},\n",
       " {'base',\n",
       "  'cell',\n",
       "  'data',\n",
       "  'disease',\n",
       "  'health',\n",
       "  'high',\n",
       "  'model',\n",
       "  'patient',\n",
       "  'protein',\n",
       "  'result'}]"
      ]
     },
     "execution_count": 20,
     "metadata": {},
     "output_type": "execute_result"
    }
   ],
   "source": [
    "k = len(topics_word)\n",
    "topic_word_sets = [set(np.array(topics_word[i][1])[:, 0]) for i in range(k)]\n",
    "topic_word_sets\n"
   ]
  },
  {
   "cell_type": "code",
   "execution_count": 21,
   "id": "998fce3c",
   "metadata": {
    "execution": {
     "iopub.execute_input": "2022-04-13T15:22:44.354882Z",
     "iopub.status.busy": "2022-04-13T15:22:44.354136Z",
     "iopub.status.idle": "2022-04-13T15:22:44.361917Z",
     "shell.execute_reply": "2022-04-13T15:22:44.362714Z",
     "shell.execute_reply.started": "2022-04-13T15:09:03.150870Z"
    },
    "papermill": {
     "duration": 0.159285,
     "end_time": "2022-04-13T15:22:44.362952",
     "exception": false,
     "start_time": "2022-04-13T15:22:44.203667",
     "status": "completed"
    },
    "tags": []
   },
   "outputs": [
    {
     "data": {
      "text/plain": [
       "{'high', 'patient'}"
      ]
     },
     "execution_count": 21,
     "metadata": {},
     "output_type": "execute_result"
    }
   ],
   "source": [
    "intersection = topic_word_sets[0]\n",
    "for tw_set in topic_word_sets[1:]:\n",
    "    intersection &= tw_set\n",
    "\n",
    "intersection\n"
   ]
  },
  {
   "cell_type": "markdown",
   "id": "3a71bfd7",
   "metadata": {
    "papermill": {
     "duration": 0.142678,
     "end_time": "2022-04-13T15:22:44.659621",
     "exception": false,
     "start_time": "2022-04-13T15:22:44.516943",
     "status": "completed"
    },
    "tags": []
   },
   "source": [
    "seems like some words already highly contribute to the entire set of topics of $7$.\n",
    "\n",
    "\\[high, patient\\]\n",
    "\n",
    "---\n",
    "\n",
    "let's try to obtain unique terms per topic, i.e. the tokens that belong to at most $1$ topic\n",
    "\n",
    "to do that; we need to filter the sets:\n",
    "\n",
    "for each topic:\n",
    "\n",
    "- make a union\n",
    "  of each set of topic/words,\n",
    "  not including the current topic\n"
   ]
  },
  {
   "cell_type": "code",
   "execution_count": 22,
   "id": "afa54710",
   "metadata": {
    "execution": {
     "iopub.execute_input": "2022-04-13T15:22:44.953005Z",
     "iopub.status.busy": "2022-04-13T15:22:44.952312Z",
     "iopub.status.idle": "2022-04-13T15:22:44.971449Z",
     "shell.execute_reply": "2022-04-13T15:22:44.970537Z",
     "shell.execute_reply.started": "2022-04-13T15:09:03.180477Z"
    },
    "papermill": {
     "duration": 0.167689,
     "end_time": "2022-04-13T15:22:44.971651",
     "exception": false,
     "start_time": "2022-04-13T15:22:44.803962",
     "status": "completed"
    },
    "tags": []
   },
   "outputs": [
    {
     "data": {
      "text/plain": [
       "[{'analysis',\n",
       "  'base',\n",
       "  'cancer',\n",
       "  'cell',\n",
       "  'control',\n",
       "  'covid',\n",
       "  'data',\n",
       "  'disease',\n",
       "  'effect',\n",
       "  'group',\n",
       "  'health',\n",
       "  'high',\n",
       "  'include',\n",
       "  'increase',\n",
       "  'level',\n",
       "  'low',\n",
       "  'model',\n",
       "  'patient',\n",
       "  'protein',\n",
       "  'report',\n",
       "  'result',\n",
       "  'risk',\n",
       "  'specie',\n",
       "  'treatment'},\n",
       " {'analysis',\n",
       "  'base',\n",
       "  'cancer',\n",
       "  'cell',\n",
       "  'control',\n",
       "  'covid',\n",
       "  'data',\n",
       "  'disease',\n",
       "  'effect',\n",
       "  'group',\n",
       "  'health',\n",
       "  'high',\n",
       "  'include',\n",
       "  'increase',\n",
       "  'level',\n",
       "  'low',\n",
       "  'model',\n",
       "  'patient',\n",
       "  'protein',\n",
       "  'report',\n",
       "  'result',\n",
       "  'risk',\n",
       "  'specie'},\n",
       " {'analysis',\n",
       "  'base',\n",
       "  'cancer',\n",
       "  'cell',\n",
       "  'covid',\n",
       "  'data',\n",
       "  'disease',\n",
       "  'group',\n",
       "  'health',\n",
       "  'high',\n",
       "  'include',\n",
       "  'increase',\n",
       "  'level',\n",
       "  'low',\n",
       "  'model',\n",
       "  'patient',\n",
       "  'protein',\n",
       "  'report',\n",
       "  'result',\n",
       "  'specie',\n",
       "  'treatment'},\n",
       " {'analysis',\n",
       "  'base',\n",
       "  'cancer',\n",
       "  'cell',\n",
       "  'control',\n",
       "  'covid',\n",
       "  'data',\n",
       "  'disease',\n",
       "  'effect',\n",
       "  'group',\n",
       "  'health',\n",
       "  'high',\n",
       "  'include',\n",
       "  'increase',\n",
       "  'level',\n",
       "  'low',\n",
       "  'model',\n",
       "  'patient',\n",
       "  'protein',\n",
       "  'report',\n",
       "  'result',\n",
       "  'risk',\n",
       "  'specie',\n",
       "  'treatment'},\n",
       " {'analysis',\n",
       "  'base',\n",
       "  'cell',\n",
       "  'control',\n",
       "  'covid',\n",
       "  'data',\n",
       "  'disease',\n",
       "  'effect',\n",
       "  'group',\n",
       "  'health',\n",
       "  'high',\n",
       "  'include',\n",
       "  'increase',\n",
       "  'level',\n",
       "  'low',\n",
       "  'model',\n",
       "  'patient',\n",
       "  'protein',\n",
       "  'report',\n",
       "  'result',\n",
       "  'risk',\n",
       "  'specie',\n",
       "  'treatment'},\n",
       " {'analysis',\n",
       "  'base',\n",
       "  'cancer',\n",
       "  'cell',\n",
       "  'control',\n",
       "  'covid',\n",
       "  'data',\n",
       "  'disease',\n",
       "  'effect',\n",
       "  'group',\n",
       "  'health',\n",
       "  'high',\n",
       "  'include',\n",
       "  'increase',\n",
       "  'level',\n",
       "  'model',\n",
       "  'patient',\n",
       "  'protein',\n",
       "  'result',\n",
       "  'risk',\n",
       "  'specie',\n",
       "  'treatment'},\n",
       " {'analysis',\n",
       "  'base',\n",
       "  'cancer',\n",
       "  'cell',\n",
       "  'control',\n",
       "  'covid',\n",
       "  'data',\n",
       "  'disease',\n",
       "  'effect',\n",
       "  'group',\n",
       "  'health',\n",
       "  'high',\n",
       "  'include',\n",
       "  'increase',\n",
       "  'level',\n",
       "  'low',\n",
       "  'model',\n",
       "  'patient',\n",
       "  'report',\n",
       "  'result',\n",
       "  'risk',\n",
       "  'specie',\n",
       "  'treatment'}]"
      ]
     },
     "execution_count": 22,
     "metadata": {},
     "output_type": "execute_result"
    }
   ],
   "source": [
    "union = [\n",
    "    set.union(\n",
    "        *[\n",
    "            topic_word_sets[i]\n",
    "            for i in range(k)  # 3. of each set of topic/words\n",
    "            if i != j  # 4. not including the current topic\n",
    "        ]\n",
    "    )  # 2. make a union\n",
    "    for j in range(k)  # 1. for each topic\n",
    "]\n",
    "union\n"
   ]
  },
  {
   "cell_type": "markdown",
   "id": "74cb3563",
   "metadata": {
    "papermill": {
     "duration": 0.143948,
     "end_time": "2022-04-13T15:22:45.266391",
     "exception": false,
     "start_time": "2022-04-13T15:22:45.122443",
     "status": "completed"
    },
    "tags": []
   },
   "source": [
    "now, for each topic/words set, get the difference between the set and the complementing union\n"
   ]
  },
  {
   "cell_type": "code",
   "execution_count": 23,
   "id": "5864b6a2",
   "metadata": {
    "execution": {
     "iopub.execute_input": "2022-04-13T15:22:45.562427Z",
     "iopub.status.busy": "2022-04-13T15:22:45.561734Z",
     "iopub.status.idle": "2022-04-13T15:22:45.564947Z",
     "shell.execute_reply": "2022-04-13T15:22:45.565515Z",
     "shell.execute_reply.started": "2022-04-13T15:09:03.197828Z"
    },
    "papermill": {
     "duration": 0.155529,
     "end_time": "2022-04-13T15:22:45.565692",
     "exception": false,
     "start_time": "2022-04-13T15:22:45.410163",
     "status": "completed"
    },
    "tags": []
   },
   "outputs": [
    {
     "data": {
      "text/plain": [
       "[set(),\n",
       " {'treatment'},\n",
       " {'control', 'effect', 'risk'},\n",
       " set(),\n",
       " {'cancer'},\n",
       " {'low', 'report'},\n",
       " {'protein'}]"
      ]
     },
     "execution_count": 23,
     "metadata": {},
     "output_type": "execute_result"
    }
   ],
   "source": [
    "unique_topic_word = [topic_word_sets[i] - union[i] for i in range(k)]\n",
    "unique_topic_word\n"
   ]
  },
  {
   "cell_type": "markdown",
   "id": "e35378da",
   "metadata": {
    "papermill": {
     "duration": 0.144389,
     "end_time": "2022-04-13T15:22:45.852259",
     "exception": false,
     "start_time": "2022-04-13T15:22:45.707870",
     "status": "completed"
    },
    "tags": []
   },
   "source": [
    "The notice here is that the results contain empty sets. One intuition would be:\n",
    "\n",
    "    the vocab is built on a unigram model, and topics could likely be a polygram\n",
    "\n",
    "The same naive approach could be extended in many ways, e.g:\n",
    "\n",
    "1. Relying on more than top $10$ words; that might yield non-empty sets, but could equally likely increase the empty sets.\n",
    "1. Building a polygram \\(bigram, trigram, ...\\) models, and applying the same naive approach.\n",
    "\n",
    "---\n",
    "\n",
    "Apart from that caveat, it seems the approach gives acceptable insights into what some of the topics are:\n",
    "\n",
    "- topic \\#$1$ could be about `treatment`s\n",
    "- topic \\#$4$ could be about `cancer`\n",
    "- topic \\#$6$ could be about `protein`s\n",
    "\n",
    "other result don't seem particularly informative:\n",
    "\n",
    "- topic \\#$2$ could be about `control`, `effect`, `risk`, or a combination of any two of them, or the three of them.\n",
    "  perhaps the contribution rates of them could draw another conclusion.\n",
    "- topic \\#$5$ have values `low` &amp; `report` which neither can be highly descriptive.\n"
   ]
  },
  {
   "cell_type": "code",
   "execution_count": 24,
   "id": "3fd01d96",
   "metadata": {
    "execution": {
     "iopub.execute_input": "2022-04-13T15:22:46.143967Z",
     "iopub.status.busy": "2022-04-13T15:22:46.143274Z",
     "iopub.status.idle": "2022-04-13T15:22:46.150176Z",
     "shell.execute_reply": "2022-04-13T15:22:46.150728Z",
     "shell.execute_reply.started": "2022-04-13T15:09:03.215512Z"
    },
    "papermill": {
     "duration": 0.15502,
     "end_time": "2022-04-13T15:22:46.150941",
     "exception": false,
     "start_time": "2022-04-13T15:22:45.995921",
     "status": "completed"
    },
    "tags": []
   },
   "outputs": [
    {
     "data": {
      "text/plain": [
       "[('effect', 0.0059798807), ('control', 0.0055863317), ('risk', 0.004952738)]"
      ]
     },
     "execution_count": 24,
     "metadata": {},
     "output_type": "execute_result"
    }
   ],
   "source": [
    "# looking at participation of words in topic 2\n",
    "_, topic_2_words = topics_word[2]\n",
    "unique_participants = [\n",
    "    topic_2_words[i]\n",
    "    for i in range(len(topic_2_words))\n",
    "    if topic_2_words[i][0] in unique_topic_word[2]\n",
    "]\n",
    "unique_participants\n"
   ]
  },
  {
   "cell_type": "markdown",
   "id": "979810fd",
   "metadata": {
    "papermill": {
     "duration": 0.146028,
     "end_time": "2022-04-13T15:22:46.442123",
     "exception": false,
     "start_time": "2022-04-13T15:22:46.296095",
     "status": "completed"
    },
    "tags": []
   },
   "source": [
    "The participation rates merely sorts the findings, as the differences between them are in the $10^{-3}$ range.\n",
    "\n",
    "Here a bigram model could be helpful, where it could be seen how each pair of them appear, the topic name might be something like:\n",
    "\n",
    "- `risk control`\n",
    "- `risk effect`\n",
    "- `control effect`, maybe?\n",
    "- ...\n",
    "\n",
    "Or a trigram model:\n",
    "\n",
    "- `control risk effect`\n",
    "- `effect` _of_ `risk control`\n",
    "- ...\n",
    "\n",
    "---\n",
    "\n",
    "## Loading the saved topics\n"
   ]
  },
  {
   "cell_type": "code",
   "execution_count": 25,
   "metadata": {},
   "outputs": [],
   "source": [
    "df_topics = pd.read_csv(os.path.join(RAW_DATA_PATH, \"topics.csv\"))\n"
   ]
  },
  {
   "cell_type": "markdown",
   "metadata": {},
   "source": [
    "### Assigning topic names\n"
   ]
  },
  {
   "cell_type": "code",
   "execution_count": 26,
   "id": "2793deda",
   "metadata": {
    "execution": {
     "iopub.execute_input": "2022-04-13T15:22:46.736874Z",
     "iopub.status.busy": "2022-04-13T15:22:46.735304Z",
     "iopub.status.idle": "2022-04-13T15:22:46.755174Z",
     "shell.execute_reply": "2022-04-13T15:22:46.754472Z",
     "shell.execute_reply.started": "2022-04-13T15:09:03.227000Z"
    },
    "papermill": {
     "duration": 0.169343,
     "end_time": "2022-04-13T15:22:46.755327",
     "exception": false,
     "start_time": "2022-04-13T15:22:46.585984",
     "status": "completed"
    },
    "tags": []
   },
   "outputs": [
    {
     "data": {
      "text/html": [
       "<div>\n",
       "<style scoped>\n",
       "    .dataframe tbody tr th:only-of-type {\n",
       "        vertical-align: middle;\n",
       "    }\n",
       "\n",
       "    .dataframe tbody tr th {\n",
       "        vertical-align: top;\n",
       "    }\n",
       "\n",
       "    .dataframe thead th {\n",
       "        text-align: right;\n",
       "    }\n",
       "</style>\n",
       "<table border=\"1\" class=\"dataframe\">\n",
       "  <thead>\n",
       "    <tr style=\"text-align: right;\">\n",
       "      <th></th>\n",
       "      <th>ArticleID</th>\n",
       "      <th>topic_1</th>\n",
       "      <th>topic_1_prop</th>\n",
       "      <th>topic_2</th>\n",
       "      <th>topic_2_prop</th>\n",
       "      <th>topic_3</th>\n",
       "      <th>topic_3_prop</th>\n",
       "    </tr>\n",
       "  </thead>\n",
       "  <tbody>\n",
       "    <tr>\n",
       "      <th>0</th>\n",
       "      <td>34153941</td>\n",
       "      <td>report</td>\n",
       "      <td>0.249494</td>\n",
       "      <td>treatment</td>\n",
       "      <td>0.210527</td>\n",
       "      <td>0.0</td>\n",
       "      <td>0.196882</td>\n",
       "    </tr>\n",
       "    <tr>\n",
       "      <th>1</th>\n",
       "      <td>34153942</td>\n",
       "      <td>report</td>\n",
       "      <td>0.459840</td>\n",
       "      <td>effect</td>\n",
       "      <td>0.289519</td>\n",
       "      <td>cancer</td>\n",
       "      <td>0.101766</td>\n",
       "    </tr>\n",
       "    <tr>\n",
       "      <th>2</th>\n",
       "      <td>34153964</td>\n",
       "      <td>3</td>\n",
       "      <td>0.651110</td>\n",
       "      <td>0.0</td>\n",
       "      <td>0.111941</td>\n",
       "      <td>treatment</td>\n",
       "      <td>0.082597</td>\n",
       "    </tr>\n",
       "    <tr>\n",
       "      <th>3</th>\n",
       "      <td>34153968</td>\n",
       "      <td>0</td>\n",
       "      <td>0.909579</td>\n",
       "      <td>treatment</td>\n",
       "      <td>0.030253</td>\n",
       "      <td>report</td>\n",
       "      <td>0.024919</td>\n",
       "    </tr>\n",
       "    <tr>\n",
       "      <th>4</th>\n",
       "      <td>34153978</td>\n",
       "      <td>cancer</td>\n",
       "      <td>0.552593</td>\n",
       "      <td>0.0</td>\n",
       "      <td>0.296178</td>\n",
       "      <td>3.0</td>\n",
       "      <td>0.087066</td>\n",
       "    </tr>\n",
       "  </tbody>\n",
       "</table>\n",
       "</div>"
      ],
      "text/plain": [
       "   ArticleID topic_1  topic_1_prop    topic_2  topic_2_prop    topic_3  \\\n",
       "0   34153941  report      0.249494  treatment      0.210527        0.0   \n",
       "1   34153942  report      0.459840     effect      0.289519     cancer   \n",
       "2   34153964       3      0.651110        0.0      0.111941  treatment   \n",
       "3   34153968       0      0.909579  treatment      0.030253     report   \n",
       "4   34153978  cancer      0.552593        0.0      0.296178        3.0   \n",
       "\n",
       "   topic_3_prop  \n",
       "0      0.196882  \n",
       "1      0.101766  \n",
       "2      0.082597  \n",
       "3      0.024919  \n",
       "4      0.087066  "
      ]
     },
     "execution_count": 26,
     "metadata": {},
     "output_type": "execute_result"
    }
   ],
   "source": [
    "topic_dict = {\n",
    "    1: \"treatment\",\n",
    "    4: \"cancer\",\n",
    "    6: \"protein\",\n",
    "    2: \"effect\",  # selected by order of participation\n",
    "    5: \"report\",  # selected intuitively as report could be more meaningful than low\n",
    "    # randomly selecting remaining topic names from participants\n",
    "    0: \"covid\",\n",
    "    3: \"specie\",\n",
    "}\n",
    "columns = [\"topic_1\", \"topic_2\", \"topic_3\"]\n",
    "df_topics.loc[:, columns] = df_topics[columns].replace(topic_dict).values\n",
    "df_topics.head()\n"
   ]
  },
  {
   "cell_type": "markdown",
   "id": "93b477f2",
   "metadata": {
    "papermill": {
     "duration": 0.144659,
     "end_time": "2022-04-13T15:22:47.047805",
     "exception": false,
     "start_time": "2022-04-13T15:22:46.903146",
     "status": "completed"
    },
    "tags": []
   },
   "source": [
    "### Saving findings\n"
   ]
  },
  {
   "cell_type": "code",
   "execution_count": 27,
   "id": "b3a69586",
   "metadata": {
    "execution": {
     "iopub.execute_input": "2022-04-13T15:22:47.341640Z",
     "iopub.status.busy": "2022-04-13T15:22:47.340869Z",
     "iopub.status.idle": "2022-04-13T15:22:47.388054Z",
     "shell.execute_reply": "2022-04-13T15:22:47.387475Z",
     "shell.execute_reply.started": "2022-04-13T15:09:03.253579Z"
    },
    "papermill": {
     "duration": 0.196393,
     "end_time": "2022-04-13T15:22:47.388244",
     "exception": false,
     "start_time": "2022-04-13T15:22:47.191851",
     "status": "completed"
    },
    "tags": []
   },
   "outputs": [],
   "source": [
    "df_topics.to_csv(os.path.join(RAW_DATA_PATH, \"topics_named.csv\"))\n"
   ]
  }
 ],
 "metadata": {
  "interpreter": {
   "hash": "53c3e8f2eb9682b6c71ce85616632b4da73b82d13cfbbe1554e54cc934f411d0"
  },
  "kernelspec": {
   "display_name": "Python 3.9.10 ('dsenv')",
   "language": "python",
   "name": "python3"
  },
  "language_info": {
   "codemirror_mode": {
    "name": "ipython",
    "version": 3
   },
   "file_extension": ".py",
   "mimetype": "text/x-python",
   "name": "python",
   "nbconvert_exporter": "python",
   "pygments_lexer": "ipython3",
   "version": "3.9.10"
  },
  "orig_nbformat": 4
 },
 "nbformat": 4,
 "nbformat_minor": 2
}
